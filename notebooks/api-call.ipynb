{
 "cells": [
  {
   "cell_type": "code",
   "execution_count": 8,
   "id": "a6dfadf2",
   "metadata": {},
   "outputs": [],
   "source": [
    "from dotenv import load_dotenv\n",
    "load_dotenv(dotenv_path='../.env')\n",
    "\n",
    "import requests\n",
    "import os\n",
    "from datetime import datetime, timedelta\n",
    "from pprint import pprint\n",
    "import pandas as pd\n",
    "from pathlib import Path"
   ]
  },
  {
   "cell_type": "markdown",
   "id": "462b29a5",
   "metadata": {},
   "source": [
    "TODO\n",
    "- Perform Initial Load from API into a database\n",
    "- Perform Incremental Load from API into a database"
   ]
  },
  {
   "cell_type": "markdown",
   "id": "f4f7061c",
   "metadata": {},
   "source": [
    "Initial Load\n",
    "- How to fetch using the url? - Work in progress\n",
    "- Where to dump the data initially? (S3) - Yes\n",
    "- Do you need to dump the data? - Yes: Avoid re-fetching from API if pipeline fails"
   ]
  },
  {
   "cell_type": "code",
   "execution_count": 2,
   "metadata": {},
   "outputs": [
    {
     "data": {
      "text/plain": [
       "'2025-07-08T14:33:34.627'"
      ]
     },
     "execution_count": 2,
     "metadata": {},
     "output_type": "execute_result"
    }
   ],
   "source": [
    "(datetime.now() - timedelta(days=13)).isoformat()[:-3]"
   ]
  },
  {
   "cell_type": "code",
   "execution_count": 23,
   "id": "ed57ff61",
   "metadata": {},
   "outputs": [
    {
     "name": "stdout",
     "output_type": "stream",
     "text": [
      "1\n",
      "2\n"
     ]
    }
   ],
   "source": [
    "APP_TOKEN = os.getenv('APP_TOKEN')\n",
    "\n",
    "# Assume last_update was 7 days ago\n",
    "last_update = (datetime.now() - timedelta(days=13)).isoformat()[:-3]\n",
    "\n",
    "# For Backfill\n",
    "min_update = f\"SELECT min(updated_on)\"\n",
    "max_update = f\"SELECT max(updated_on)\"\n",
    "\n",
    "# Implementing CDC, batch incremental loads only\n",
    "query = f\"SELECT * WHERE updated_on >= '{last_update}'\"\n",
    "null_query = f\"SELECT * WHERE updated_on = NULL\"\n",
    "\n",
    "url = \"https://data.cityofchicago.org/api/v3/views/crimes/query.json\"\n",
    "headers = {\n",
    "    'X-App-Token' : APP_TOKEN\n",
    "}\n",
    "\n",
    "# If status code != 200, stop\n",
    "# If response is empty, stop\n",
    "# Failsafe, if response doesnt return non-empty, stop pagination after certain page number\n",
    "results = []\n",
    "pagenum = 1\n",
    "pagesize = 50000\n",
    "while True:\n",
    "    print(pagenum)\n",
    "    body = {\n",
    "        'query' : query,\n",
    "        'page' : {\n",
    "            'pageNumber' : pagenum,\n",
    "            'pageSize' : pagesize\n",
    "        },\n",
    "        \"includeSynthetic\": False\n",
    "    }\n",
    "\n",
    "    res = requests.post(\n",
    "        url,\n",
    "        json=body,\n",
    "        headers=headers\n",
    "    )\n",
    "\n",
    "    if res.status_code != 200:\n",
    "        break\n",
    "\n",
    "    if res.json() == []:\n",
    "        break\n",
    "    \n",
    "    if pagenum >= 15:\n",
    "        break\n",
    "    \n",
    "    results.extend(res.json())\n",
    "    pagenum += 1"
   ]
  },
  {
   "cell_type": "code",
   "execution_count": null,
   "metadata": {},
   "outputs": [],
   "source": [
    "df = pd.json_normalize(results)\n",
    "\n",
    "save_path = ''\n",
    "filename = ''\n",
    "df.to_json(\"./data.json.gz\", compression='gzip', orient='records')"
   ]
  },
  {
   "cell_type": "code",
   "execution_count": null,
   "metadata": {},
   "outputs": [],
   "source": [
    "TMP_FOLDER = Path('./temp')"
   ]
  }
 ],
 "metadata": {
  "kernelspec": {
   "display_name": ".venv-notebook",
   "language": "python",
   "name": "python3"
  },
  "language_info": {
   "codemirror_mode": {
    "name": "ipython",
    "version": 3
   },
   "file_extension": ".py",
   "mimetype": "text/x-python",
   "name": "python",
   "nbconvert_exporter": "python",
   "pygments_lexer": "ipython3",
   "version": "3.10.16"
  }
 },
 "nbformat": 4,
 "nbformat_minor": 5
}
