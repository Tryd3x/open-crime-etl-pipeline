{
 "cells": [
  {
   "cell_type": "code",
   "execution_count": 1,
   "id": "05740ba5",
   "metadata": {},
   "outputs": [
    {
     "name": "stderr",
     "output_type": "stream",
     "text": [
      "/home/hyderreza/codehub/open-crime-etl-pipeline/airflow/.venv/lib/python3.10/site-packages/snowflake/connector/options.py:104: UserWarning: You have an incompatible version of 'pyarrow' installed (21.0.0), please install a version that adheres to: 'pyarrow<19.0.0; extra == \"pandas\"'\n",
      "  warn_incompatible_dep(\n"
     ]
    }
   ],
   "source": [
    "from dotenv import load_dotenv\n",
    "load_dotenv()\n",
    "\n",
    "import os\n",
    "\n",
    "from db.postgres.db_postgres import PostgresExecutor\n",
    "from db.snowflake.db_snowflake import SnowflakeExecutor\n",
    "\n",
    "db_params = {\n",
    "    \"host\": 'host.docker.internal',\n",
    "    \"port\": '5433',\n",
    "    \"username\": 'admin',\n",
    "    \"password\": 'admin',\n",
    "    \"db\": 'crime_db',\n",
    "}\n",
    "\n",
    "snow_params = {\n",
    "    \"account\" : 'QYKNAZY-GD18580',\n",
    "    \"database\" : 'crime_db',\n",
    "    \"schema\" : 'PUBLIC',\n",
    "    \"role\" : 'ACCOUNTADMIN',\n",
    "    \"warehouse\" : 'crime_wh',\n",
    "    \"user\" : 'hyderreza',\n",
    "    \"password\" : os.getenv(\"SNOWFLAKE_DB_PASSWORD\")\n",
    "}\n",
    "\n",
    "post = PostgresExecutor(**db_params, template_path='../include/sql/postgres')\n",
    "snow = SnowflakeExecutor(**snow_params, template_path='../include/sql/postgres')"
   ]
  },
  {
   "cell_type": "code",
   "execution_count": 22,
   "id": "5add295d",
   "metadata": {},
   "outputs": [
    {
     "data": {
      "text/plain": [
       "'UPDATE logs SET status = :status, end_time = :end_time WHERE run_id = :run_id AND load_date = :load_date'"
      ]
     },
     "execution_count": 22,
     "metadata": {},
     "output_type": "execute_result"
    }
   ],
   "source": [
    "params = {\n",
    "    'run_id' : 'test',\n",
    "    'load_date' : 'somedate',\n",
    "    'status' : 'SUCCESS',\n",
    "    'end_time' : '3:19'\n",
    "}\n",
    "\n",
    "table = 'logs'\n",
    "where = ['run_id', 'load_date']\n",
    "\n",
    "values = {k : v for k,v in params.items()}\n",
    "\n",
    "set_values = \", \".join([f\"{k} = :{k}\" for k in values.keys() if k not in where])\n",
    "\n",
    "missing_keys = [k for k in where if k not in values]\n",
    "if missing_keys:\n",
    "    raise ValueError(f\"Missing primary key(s) in update: {missing_keys}\")\n",
    "\n",
    "where_clause = ' AND '.join([f\"{k} = :{k}\" for k in values.keys() if k in where])\n",
    "\n",
    "f\"UPDATE {table} SET {set_values} WHERE {where_clause}\"\n"
   ]
  },
  {
   "cell_type": "code",
   "execution_count": 19,
   "id": "6f2935d5",
   "metadata": {},
   "outputs": [
    {
     "data": {
      "text/plain": [
       "'INSERT INTO logs(run_id, load_date, status, end_time) VALUES (:run_id, :load_date, :status, :end_time)'"
      ]
     },
     "execution_count": 19,
     "metadata": {},
     "output_type": "execute_result"
    }
   ],
   "source": [
    "values = {k : v for k,v in params.items()}\n",
    "\n",
    "set_clause = \", \".join(params.keys())\n",
    "val_clause = \", \".join([f':{k}' for k in values.keys()])\n",
    "\n",
    "f\"INSERT INTO {table}({set_clause}) VALUES ({val_clause})\""
   ]
  },
  {
   "cell_type": "code",
   "execution_count": null,
   "id": "7c61820e",
   "metadata": {},
   "outputs": [],
   "source": [
    "from datetime import datetime, date\n",
    "def date_to_str(date: date):\n",
    "    return date.strftime(\"%Y-%m-%d\")\n"
   ]
  },
  {
   "cell_type": "code",
   "execution_count": 27,
   "metadata": {},
   "outputs": [
    {
     "name": "stdout",
     "output_type": "stream",
     "text": [
      "[(datetime.date(2025, 8, 18),)]\n"
     ]
    }
   ],
   "source": [
    "import pandas as pd\n",
    "\n",
    "query = \"SELECT ingested_at FROM logs\"\n",
    "# with post.engine.begin() as conn:\n",
    "#     r = conn.execute(query)\n",
    "#     data1 = set(r.fetchall())\n",
    "#     df1 = pd.DataFrame(r.mappings().fetchall())\n",
    "    \n",
    "with snow.engine.begin() as conn:\n",
    "    r = conn.execute(query)\n",
    "    data2 = list(set(r.fetchall()))\n",
    "    df2 = pd.DataFrame(r.mappings().fetchall())\n",
    "    print(data2)\n",
    "    # print(type([date_to_str(d[0]) for d in data2]))"
   ]
  },
  {
   "cell_type": "code",
   "execution_count": 10,
   "id": "30cb479d",
   "metadata": {},
   "outputs": [
    {
     "data": {
      "text/plain": [
       "datetime.date"
      ]
     },
     "execution_count": 10,
     "metadata": {},
     "output_type": "execute_result"
    }
   ],
   "source": [
    "type(list(data1)[0][0])"
   ]
  },
  {
   "cell_type": "code",
   "execution_count": 61,
   "metadata": {},
   "outputs": [
    {
     "name": "stdout",
     "output_type": "stream",
     "text": [
      "{4, 5}\n",
      "{1, 2}\n"
     ]
    }
   ],
   "source": [
    "d_a = {1,2,3}\n",
    "d_b = {3,4,5}\n",
    "\n",
    "miss_a = d_b - d_a # Answer should be 4,5\n",
    "miss_b = d_a - d_b # Answer should be 1,2\n",
    "print(miss_a)\n",
    "print(miss_b)"
   ]
  },
  {
   "cell_type": "code",
   "execution_count": 54,
   "metadata": {},
   "outputs": [
    {
     "data": {
      "text/html": [
       "<div>\n",
       "<style scoped>\n",
       "    .dataframe tbody tr th:only-of-type {\n",
       "        vertical-align: middle;\n",
       "    }\n",
       "\n",
       "    .dataframe tbody tr th {\n",
       "        vertical-align: top;\n",
       "    }\n",
       "\n",
       "    .dataframe thead th {\n",
       "        text-align: right;\n",
       "    }\n",
       "</style>\n",
       "<table border=\"1\" class=\"dataframe\">\n",
       "  <thead>\n",
       "    <tr style=\"text-align: right;\">\n",
       "      <th></th>\n",
       "      <th>col1</th>\n",
       "      <th>col2</th>\n",
       "    </tr>\n",
       "  </thead>\n",
       "  <tbody>\n",
       "    <tr>\n",
       "      <th>0</th>\n",
       "      <td>1.0</td>\n",
       "      <td>NaN</td>\n",
       "    </tr>\n",
       "    <tr>\n",
       "      <th>1</th>\n",
       "      <td>2.0</td>\n",
       "      <td>NaN</td>\n",
       "    </tr>\n",
       "    <tr>\n",
       "      <th>2</th>\n",
       "      <td>3.0</td>\n",
       "      <td>3.0</td>\n",
       "    </tr>\n",
       "    <tr>\n",
       "      <th>3</th>\n",
       "      <td>NaN</td>\n",
       "      <td>4.0</td>\n",
       "    </tr>\n",
       "    <tr>\n",
       "      <th>4</th>\n",
       "      <td>NaN</td>\n",
       "      <td>5.0</td>\n",
       "    </tr>\n",
       "  </tbody>\n",
       "</table>\n",
       "</div>"
      ],
      "text/plain": [
       "   col1  col2\n",
       "0   1.0   NaN\n",
       "1   2.0   NaN\n",
       "2   3.0   3.0\n",
       "3   NaN   4.0\n",
       "4   NaN   5.0"
      ]
     },
     "execution_count": 54,
     "metadata": {},
     "output_type": "execute_result"
    }
   ],
   "source": [
    "d1 = pd.DataFrame({'col1': [1, 2, 3]})\n",
    "d2 = pd.DataFrame({'col2': [3, 4, 5]})\n",
    "\n",
    "result = pd.merge(d1,d2, left_on='col1', right_on='col2', how='outer')\n",
    "missing_db1 = result[result['col1'].isnull()]['col2']\n",
    "missing_db2 = result[result['col2'].isnull()]['col1']\n",
    "result"
   ]
  },
  {
   "cell_type": "code",
   "execution_count": 55,
   "metadata": {},
   "outputs": [
    {
     "data": {
      "text/plain": [
       "3    4.0\n",
       "4    5.0\n",
       "Name: col2, dtype: float64"
      ]
     },
     "execution_count": 55,
     "metadata": {},
     "output_type": "execute_result"
    }
   ],
   "source": [
    "missing_db1"
   ]
  },
  {
   "cell_type": "code",
   "execution_count": 56,
   "metadata": {},
   "outputs": [
    {
     "data": {
      "text/plain": [
       "0    1.0\n",
       "1    2.0\n",
       "Name: col1, dtype: float64"
      ]
     },
     "execution_count": 56,
     "metadata": {},
     "output_type": "execute_result"
    }
   ],
   "source": [
    "missing_db2"
   ]
  },
  {
   "cell_type": "code",
   "execution_count": 92,
   "metadata": {},
   "outputs": [
    {
     "data": {
      "text/plain": [
       "re.compile(r'^raw/year=\\d{4}/month=\\d{2}/load_date=(2025\\-08\\-14)/.*',\n",
       "           re.UNICODE)"
      ]
     },
     "execution_count": 92,
     "metadata": {},
     "output_type": "execute_result"
    }
   ],
   "source": [
    "from datetime import timedelta, datetime\n",
    "import re\n",
    "\n",
    "single_date = True\n",
    "\n",
    "last_load_date = datetime(2025,8,14).date()\n",
    "today_date = datetime.now().date()\n",
    "if not single_date:\n",
    "    dates_to_process = [(last_load_date + timedelta(days=i)).strftime(\"%Y-%m-%d\") for i in range((today_date - last_load_date).days+1)]\n",
    "else:\n",
    "    dates_to_process = [last_load_date.strftime(\"%Y-%m-%d\")]\n",
    "\n",
    "load_dates = \"|\".join(map(re.escape, dates_to_process))\n",
    "regex = re.compile(rf\"^raw/year=\\d{{4}}/month=\\d{{2}}/load_date=({load_dates})/.*\")\n",
    "regex"
   ]
  },
  {
   "cell_type": "code",
   "execution_count": null,
   "metadata": {},
   "outputs": [],
   "source": []
  }
 ],
 "metadata": {
  "kernelspec": {
   "display_name": ".venv",
   "language": "python",
   "name": "python3"
  },
  "language_info": {
   "codemirror_mode": {
    "name": "ipython",
    "version": 3
   },
   "file_extension": ".py",
   "mimetype": "text/x-python",
   "name": "python",
   "nbconvert_exporter": "python",
   "pygments_lexer": "ipython3",
   "version": "3.10.18"
  }
 },
 "nbformat": 4,
 "nbformat_minor": 5
}
