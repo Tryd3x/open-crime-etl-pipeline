{
 "cells": [
  {
   "cell_type": "code",
   "execution_count": 100,
   "id": "181a5c6f",
   "metadata": {},
   "outputs": [],
   "source": [
    "from sqlalchemy import MetaData, Table, Column, String, Integer, Float, Date, DateTime\n",
    "from sqlalchemy.engine.base import Engine\n",
    "from common.connect import create_postgres_conn, create_aws_conn\n",
    "from db.tables import create_date_table, create_crime_table, create_log_table\n",
    "from utils.helper import generate_date_range\n",
    "from dotenv import load_dotenv\n",
    "import os\n",
    "\n",
    "load_dotenv()\n",
    "\n",
    "db_params = {\n",
    "    \"host\": 'localhost',\n",
    "    \"port\": '5433',\n",
    "    \"username\": 'admin',\n",
    "    \"password\": 'admin',\n",
    "    \"db\": 'mydb',\n",
    "}\n",
    "engine = create_postgres_conn(**db_params)"
   ]
  },
  {
   "cell_type": "code",
   "execution_count": 3,
   "id": "7995cc06",
   "metadata": {},
   "outputs": [
    {
     "name": "stdout",
     "output_type": "stream",
     "text": [
      "dict_keys(['pipeline_logs', 'crime', 'date'])\n"
     ]
    }
   ],
   "source": [
    "meta = MetaData()\n",
    "meta.reflect(engine)\n",
    "print(meta.tables.keys())\n",
    "\n",
    "# meta.drop_all(bind=engine, checkfirst=True)\n",
    "# print(meta.tables.keys())"
   ]
  },
  {
   "cell_type": "code",
   "execution_count": 4,
   "id": "cc7512f3",
   "metadata": {},
   "outputs": [],
   "source": [
    "# Decide tables we need to create\n",
    "\n",
    "# Log table\n",
    "log_table = create_log_table(engine=engine)\n",
    "\n",
    "# crime\n",
    "crime_table = create_crime_table(engine=engine)\n",
    "\n",
    "# police_stations\n",
    "# : WILL BE HANDLED IN DBT\n",
    "\n",
    "# ward_offices\n",
    "# : WILL BE HANDLED IN DBT\n",
    "\n",
    "# dim_date\n",
    "date_table = create_date_table(engine=engine)\n"
   ]
  },
  {
   "cell_type": "code",
   "execution_count": 5,
   "metadata": {},
   "outputs": [
    {
     "data": {
      "text/plain": [
       "dict_keys(['pipeline_logs', 'crime', 'date'])"
      ]
     },
     "execution_count": 5,
     "metadata": {},
     "output_type": "execute_result"
    }
   ],
   "source": [
    "meta.reflect(engine)\n",
    "meta.tables.keys()"
   ]
  },
  {
   "cell_type": "code",
   "execution_count": null,
   "metadata": {},
   "outputs": [
    {
     "data": {
      "text/plain": [
       "[{'start_date': '2024-01-01T00:00:00.000',\n",
       "  'end_date': '2024-02-01T00:00:00.000'},\n",
       " {'start_date': '2024-02-01T00:00:00.000',\n",
       "  'end_date': '2024-03-01T00:00:00.000'},\n",
       " {'start_date': '2024-03-01T00:00:00.000',\n",
       "  'end_date': '2024-04-01T00:00:00.000'},\n",
       " {'start_date': '2024-04-01T00:00:00.000',\n",
       "  'end_date': '2024-05-01T00:00:00.000'},\n",
       " {'start_date': '2024-05-01T00:00:00.000',\n",
       "  'end_date': '2024-06-01T00:00:00.000'},\n",
       " {'start_date': '2024-06-01T00:00:00.000',\n",
       "  'end_date': '2024-07-01T00:00:00.000'},\n",
       " {'start_date': '2024-07-01T00:00:00.000',\n",
       "  'end_date': '2024-08-01T00:00:00.000'},\n",
       " {'start_date': '2024-08-01T00:00:00.000',\n",
       "  'end_date': '2024-09-01T00:00:00.000'},\n",
       " {'start_date': '2024-09-01T00:00:00.000',\n",
       "  'end_date': '2024-10-01T00:00:00.000'},\n",
       " {'start_date': '2024-10-01T00:00:00.000',\n",
       "  'end_date': '2024-11-01T00:00:00.000'},\n",
       " {'start_date': '2024-11-01T00:00:00.000',\n",
       "  'end_date': '2024-12-01T00:00:00.000'},\n",
       " {'start_date': '2024-12-01T00:00:00.000',\n",
       "  'end_date': '2025-01-01T00:00:00.000'},\n",
       " {'start_date': '2025-01-01T00:00:00.000',\n",
       "  'end_date': '2025-02-01T00:00:00.000'},\n",
       " {'start_date': '2025-02-01T00:00:00.000',\n",
       "  'end_date': '2025-03-01T00:00:00.000'},\n",
       " {'start_date': '2025-03-01T00:00:00.000',\n",
       "  'end_date': '2025-04-01T00:00:00.000'},\n",
       " {'start_date': '2025-04-01T00:00:00.000',\n",
       "  'end_date': '2025-05-01T00:00:00.000'},\n",
       " {'start_date': '2025-05-01T00:00:00.000',\n",
       "  'end_date': '2025-06-01T00:00:00.000'},\n",
       " {'start_date': '2025-06-01T00:00:00.000',\n",
       "  'end_date': '2025-07-01T00:00:00.000'},\n",
       " {'start_date': '2025-07-01T00:00:00.000',\n",
       "  'end_date': '2025-07-30T17:34:56.844'}]"
      ]
     },
     "execution_count": 122,
     "metadata": {},
     "output_type": "execute_result"
    }
   ],
   "source": [
    "from datetime import datetime\n",
    "updated_on = False # Where do we get this? Possibly from log table?\n",
    "start_date = updated_on if updated_on else datetime(2024,1,1) # Either fallback date or updated_on date\n",
    "end_date = datetime.now()\n",
    "date_range = generate_date_range(start_date=start_date, end_date=end_date)\n",
    "date_range"
   ]
  },
  {
   "cell_type": "code",
   "execution_count": null,
   "metadata": {},
   "outputs": [],
   "source": [
    "import requests\n",
    "\n",
    "def fetch_data(start_date, end_date, pagesize):\n",
    "    query = f\"SELECT * WHERE updated_on BETWEEN '{start_date}' AND '{end_date}'\"\n",
    "\n",
    "    url = \"https://data.cityofchicago.org/api/v3/views/crimes/query.json\"\n",
    "    headers = {\n",
    "        'X-App-Token' : os.getenv('APP_TOKEN')\n",
    "    }\n",
    "\n",
    "    pagenum = 1\n",
    "    results = []\n",
    "    while True:\n",
    "        print(pagenum)\n",
    "        body = {\n",
    "            'query' : query,\n",
    "            'page' : {\n",
    "                'pageNumber' : pagenum,\n",
    "                'pageSize' : pagesize\n",
    "            },\n",
    "            \"includeSynthetic\": True\n",
    "        }\n",
    "\n",
    "        res = requests.post(\n",
    "            url,\n",
    "            json=body,\n",
    "            headers=headers\n",
    "        )\n",
    "\n",
    "        if res.status_code != 200:\n",
    "            print(\"Error status code\")\n",
    "            print(res.json())\n",
    "            return (pagenum-1, [])\n",
    "\n",
    "        if res.json() == []:\n",
    "            return (pagenum-1, results)\n",
    "        \n",
    "        if pagenum >= 15:\n",
    "            print(\"Infinite loop\")\n",
    "            return (None, None)\n",
    "\n",
    "        results.append(res.json())\n",
    "        \n",
    "        pagenum += 1"
   ]
  },
  {
   "cell_type": "code",
   "execution_count": null,
   "metadata": {},
   "outputs": [],
   "source": [
    "from pathlib import Path\n",
    "import json\n",
    "import gzip\n",
    "\n",
    "def save_to_path(path: str, pagenum: int, data) -> None:\n",
    "    # Iterates over each batch yielded by fetch_crime_data()\n",
    "    path = Path(path)\n",
    "    if not path.exists():\n",
    "        path.mkdir(parents=True, exist_ok=True)\n",
    "\n",
    "    for p in range(1, pagenum+1):\n",
    "        filename = f\"part-{p:04}.json.gz\"\n",
    "        filepath = path / filename\n",
    "\n",
    "        # Staging batch in local storage for upload\n",
    "        with gzip.open(filepath,'wt') as f:\n",
    "            json.dump(data, f)"
   ]
  },
  {
   "cell_type": "code",
   "execution_count": null,
   "metadata": {},
   "outputs": [
    {
     "name": "stdout",
     "output_type": "stream",
     "text": [
      "1\n",
      "2\n",
      "3\n",
      "4\n",
      "5\n",
      "1\n",
      "2\n",
      "3\n",
      "4\n",
      "1\n",
      "2\n",
      "3\n",
      "4\n",
      "1\n",
      "2\n",
      "3\n",
      "1\n",
      "2\n",
      "3\n"
     ]
    }
   ],
   "source": [
    "# Need to figure how to query the API for full load or incremental (Mapped date_range to handle both)\n",
    "# should we query the API using a certain date window? I'm not sure what the benefit of this is? (Going with monthly window)\n",
    "\n",
    "pagesize = 500\n",
    "\n",
    "batch = []\n",
    "for dr in date_range:\n",
    "# set date to default to\n",
    "    start_date = dr.get('start_date')\n",
    "    end_date = dr.get('end_date')\n",
    "\n",
    "    # What are the chances of OOM?\n",
    "    count, results = fetch_data(start_date=start_date, end_date=end_date)\n",
    "\n",
    "    # Save path\n",
    "    save_to_path()\n",
    "\n",
    "    \n",
    "    \n",
    "\n",
    "    "
   ]
  },
  {
   "cell_type": "code",
   "execution_count": 120,
   "metadata": {},
   "outputs": [
    {
     "data": {
      "text/plain": [
       "[(5, 14.9296875),\n",
       " (4, 9.0859375),\n",
       " (4, 9.0234375),\n",
       " (3, 6.1796875),\n",
       " (3, 4.5859375)]"
      ]
     },
     "execution_count": 120,
     "metadata": {},
     "output_type": "execute_result"
    }
   ],
   "source": [
    "final = []\n",
    "for count, size in batch:\n",
    "    final.append((count, size/1024))\n",
    "\n",
    "final"
   ]
  },
  {
   "cell_type": "code",
   "execution_count": null,
   "metadata": {},
   "outputs": [],
   "source": [
    "# Need a transformation layer before loading the data into the DB"
   ]
  },
  {
   "cell_type": "code",
   "execution_count": null,
   "metadata": {},
   "outputs": [],
   "source": [
    "from sqlalchemy import select, func\n",
    "\n",
    "meta = MetaData()\n",
    "meta.reflect(engine)\n",
    "\n",
    "log_table = meta.tables['pipeline_logs']\n",
    "\n",
    "# Query to get the file_location of the last ingested run\n",
    "with engine.begin() as conn:\n",
    "    st1 = select(func.max(log_table.c.ingested_at)).scalar_subquery()\n",
    "    st = select(\n",
    "            log_table.c.file_location\n",
    "        ).where(log_table.c.ingested_at == st1)\n",
    "    results = conn.execute(st).scalar()\n"
   ]
  },
  {
   "cell_type": "markdown",
   "metadata": {},
   "source": [
    "About the source\n",
    "- Frequency of update - Daily [based on updated_on attribute]\n",
    "\n",
    "Incremental\n",
    "- if db exists\n",
    "- Check last updated_on date and fetch records past that date\n",
    "\n",
    "Full load (work on this first)\n",
    "- If db doesnt exist, perform full load\n",
    "- set a base date to fetch records for full load maybe 2024-01-01\n",
    "- Dag based full load (backfill) or full load within a dag run + incremental\n"
   ]
  },
  {
   "cell_type": "code",
   "execution_count": null,
   "id": "6cbd7428",
   "metadata": {},
   "outputs": [
    {
     "name": "stdout",
     "output_type": "stream",
     "text": [
      "raw/ingest=2025-07-27/part-0001.json.gz\n",
      "raw/ingest=2025-07-27/part-0002.json.gz\n",
      "raw/ingest=2025-07-27/part-0003.json.gz\n",
      "raw/ingest=2025-07-27/part-0004.json.gz\n",
      "raw/ingest=2025-07-27/part-0005.json.gz\n",
      "raw/ingest=2025-07-27/part-0006.json.gz\n",
      "raw/ingest=2025-07-27/part-0007.json.gz\n",
      "raw/ingest=2025-07-27/part-0008.json.gz\n",
      "raw/ingest=2025-07-27/part-0009.json.gz\n",
      "raw/ingest=2025-07-27/part-0010.json.gz\n",
      "raw/ingest=2025-07-27/part-0011.json.gz\n",
      "raw/ingest=2025-07-27/part-0012.json.gz\n",
      "raw/ingest=2025-07-27/part-0013.json.gz\n",
      "raw/ingest=2025-07-27/part-0014.json.gz\n",
      "raw/ingest=2025-07-27/part-0015.json.gz\n",
      "raw/ingest=2025-07-27/part-0016.json.gz\n",
      "raw/ingest=2025-07-27/part-0017.json.gz\n",
      "raw/ingest=2025-07-27/part-0018.json.gz\n",
      "raw/ingest=2025-07-27/part-0019.json.gz\n",
      "raw/ingest=2025-07-27/part-0020.json.gz\n",
      "raw/ingest=2025-07-27/part-0021.json.gz\n",
      "raw/ingest=2025-07-27/part-0022.json.gz\n"
     ]
    }
   ],
   "source": [
    "# get data from s3, filter by ingest\n",
    "aws_params = {\n",
    "    \"access_key\" : os.getenv(\"AWS_ACCESS_KEY_ID\"),\n",
    "    \"secret_access_key\" : os.getenv(\"AWS_SECRET_ACCESS_KEY\"),\n",
    "    \"region\" : os.getenv(\"AWS_REGION\")\n",
    "}\n",
    "\n",
    "s3_client = create_aws_conn(resource='s3', **aws_params)\n",
    "\n",
    "BUCKET_NAME = 'open-crime-etl'\n",
    "SOURCE = \"raw/\"\n",
    "PREFIX = f\"ingest=YYYY-MM-DD/\"\n",
    "\n",
    "# We need to know about the last ingested date from the metadata\n",
    "\n",
    "bucket = s3_client.Bucket(BUCKET_NAME)\n",
    "for i in bucket.objects.filter(Prefix=f\"{SOURCE}\"):\n",
    "    print(i.key)\n",
    "\n",
    "# Uncompress it\n",
    "\n",
    "# json loads\n",
    "\n",
    "# Transform\n",
    "\n",
    "# sqlalchemy insert into postgres\n"
   ]
  }
 ],
 "metadata": {
  "kernelspec": {
   "display_name": ".venv",
   "language": "python",
   "name": "python3"
  },
  "language_info": {
   "codemirror_mode": {
    "name": "ipython",
    "version": 3
   },
   "file_extension": ".py",
   "mimetype": "text/x-python",
   "name": "python",
   "nbconvert_exporter": "python",
   "pygments_lexer": "ipython3",
   "version": "3.12.11"
  }
 },
 "nbformat": 4,
 "nbformat_minor": 5
}
