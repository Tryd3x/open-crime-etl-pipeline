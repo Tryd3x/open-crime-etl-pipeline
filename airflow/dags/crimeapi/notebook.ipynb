{
 "cells": [
  {
   "cell_type": "code",
   "execution_count": 8,
   "id": "181a5c6f",
   "metadata": {},
   "outputs": [],
   "source": [
    "from sqlalchemy import MetaData, Table, Column, String, Integer, Float, Date, DateTime, func, select\n",
    "from sqlalchemy.engine.base import Engine\n",
    "from common.connect import create_postgres_conn, create_aws_conn\n",
    "from db.tables import create_date_table, create_crime_table, create_log_table\n",
    "from utils.helper import generate_date_range\n",
    "from dotenv import load_dotenv\n",
    "import os\n",
    "\n",
    "load_dotenv()\n",
    "\n",
    "db_params = {\n",
    "    \"host\": 'localhost',\n",
    "    \"port\": '5433',\n",
    "    \"username\": 'admin',\n",
    "    \"password\": 'admin',\n",
    "    \"db\": 'mydb',\n",
    "}\n",
    "\n",
    "engine = create_postgres_conn(**db_params)"
   ]
  },
  {
   "cell_type": "code",
   "execution_count": 12,
   "id": "7995cc06",
   "metadata": {},
   "outputs": [
    {
     "name": "stdout",
     "output_type": "stream",
     "text": [
      "dict_keys(['pipeline_logs', 'crime', 'date'])\n"
     ]
    }
   ],
   "source": [
    "meta = MetaData()\n",
    "meta.reflect(engine)\n",
    "print(meta.tables.keys())\n",
    "\n",
    "# meta.drop_all(bind=engine, checkfirst=True)\n",
    "# print(meta.tables.keys())"
   ]
  },
  {
   "cell_type": "code",
   "execution_count": 13,
   "metadata": {},
   "outputs": [
    {
     "name": "stdout",
     "output_type": "stream",
     "text": [
      "<class 'NoneType'>\n"
     ]
    }
   ],
   "source": [
    "log_table = meta.tables['pipeline_logs']\n",
    "with engine.begin() as conn:\n",
    "    st = select(func.max(log_table.c.ingested_at))\n",
    "    result = conn.execute(st)\n",
    "    print(type(result.scalar()))"
   ]
  },
  {
   "cell_type": "code",
   "execution_count": 10,
   "id": "cc7512f3",
   "metadata": {},
   "outputs": [],
   "source": [
    "# Decide tables we need to create\n",
    "\n",
    "# Log table\n",
    "log_table = create_log_table(engine=engine)\n",
    "\n",
    "# crime\n",
    "crime_table = create_crime_table(engine=engine)\n",
    "\n",
    "# police_stations\n",
    "# : WILL BE HANDLED IN DBT\n",
    "\n",
    "# ward_offices\n",
    "# : WILL BE HANDLED IN DBT\n",
    "\n",
    "# dim_date\n",
    "date_table = create_date_table(engine=engine)\n"
   ]
  },
  {
   "cell_type": "code",
   "execution_count": 46,
   "metadata": {},
   "outputs": [],
   "source": [
    "from datetime import datetime\n",
    "\n",
    "start_date = datetime(2024,1,1)\n",
    "end_date = datetime(2024,3,1)\n",
    "date_range = generate_date_range(start_date=start_date, end_date=end_date)\n",
    "date_range\n",
    "\n",
    "for d in date_range:\n",
    "    sd = d.get('start_date')\n",
    "    ed = d.get('end_date')\n",
    "    fetch_data_api(start_date=sd, end_date=ed, pagesize=1000, save_path=\"./tmp\")\n"
   ]
  },
  {
   "cell_type": "code",
   "execution_count": 82,
   "metadata": {},
   "outputs": [
    {
     "name": "stdout",
     "output_type": "stream",
     "text": [
      "tmp/2024/01/part-0002.json.gz\n",
      "tmp/2024/01/part-0001.json.gz\n",
      "tmp/2024/02/part-0002.json.gz\n",
      "tmp/2024/02/part-0001.json.gz\n"
     ]
    },
    {
     "data": {
      "text/plain": [
       "['raw/year=2024/month=01/part-0002.json.gz',\n",
       " 'raw/year=2024/month=01/part-0001.json.gz',\n",
       " 'raw/year=2024/month=02/part-0002.json.gz',\n",
       " 'raw/year=2024/month=02/part-0001.json.gz']"
      ]
     },
     "execution_count": 82,
     "metadata": {},
     "output_type": "execute_result"
    }
   ],
   "source": [
    "source_path = Path(\"./tmp\")\n",
    "destination_path = Path(\"raw/\")\n",
    "# list(source_path.iterdir())[0].as_posix()\n",
    "keys = []\n",
    "for p in source_path.rglob(\"*.gz\"):\n",
    "    print(p)\n",
    "    year, month, file = p.as_posix().split(\"/\")[1:]\n",
    "    key = destination_path / f\"year={year}/\" / f\"month={month}/\" / file\n",
    "    keys.append(key.as_posix()) \n",
    "keys"
   ]
  },
  {
   "cell_type": "code",
   "execution_count": null,
   "metadata": {},
   "outputs": [],
   "source": [
    "# Need a transformation layer before loading the data into the DB"
   ]
  },
  {
   "cell_type": "code",
   "execution_count": 15,
   "id": "e30c6acf",
   "metadata": {},
   "outputs": [
    {
     "data": {
      "text/plain": [
       "[{'start_date': '2025-01-01T00:00:00.000',\n",
       "  'end_date': '2025-02-01T00:00:00.000'},\n",
       " {'start_date': '2025-02-01T00:00:00.000',\n",
       "  'end_date': '2025-03-01T00:00:00.000'},\n",
       " {'start_date': '2025-03-01T00:00:00.000',\n",
       "  'end_date': '2025-04-01T00:00:00.000'},\n",
       " {'start_date': '2025-04-01T00:00:00.000',\n",
       "  'end_date': '2025-05-01T00:00:00.000'},\n",
       " {'start_date': '2025-05-01T00:00:00.000',\n",
       "  'end_date': '2025-06-01T00:00:00.000'},\n",
       " {'start_date': '2025-06-01T00:00:00.000',\n",
       "  'end_date': '2025-07-01T00:00:00.000'},\n",
       " {'start_date': '2025-07-01T00:00:00.000',\n",
       "  'end_date': '2025-08-01T00:00:00.000'},\n",
       " {'start_date': '2025-08-01T00:00:00.000',\n",
       "  'end_date': '2025-08-01T16:35:07.437'}]"
      ]
     },
     "execution_count": 15,
     "metadata": {},
     "output_type": "execute_result"
    }
   ],
   "source": [
    "from utils.helper import generate_date_range\n",
    "\n",
    "generate_date_range(start_date=datetime(2025,1,1), end_date=datetime.now())"
   ]
  },
  {
   "cell_type": "code",
   "execution_count": null,
   "metadata": {},
   "outputs": [],
   "source": [
    "from sqlalchemy import select, func\n",
    "\n",
    "meta = MetaData()\n",
    "meta.reflect(engine)\n",
    "\n",
    "log_table = meta.tables['pipeline_logs']\n",
    "\n",
    "# Query to get the file_location of the last ingested run\n",
    "with engine.begin() as conn:\n",
    "    st1 = select(func.max(log_table.c.ingested_at)).scalar_subquery()\n",
    "    st = select(\n",
    "            log_table.c.file_location\n",
    "        ).where(log_table.c.ingested_at == st1)\n",
    "    results = conn.execute(st).scalar()\n"
   ]
  },
  {
   "cell_type": "markdown",
   "metadata": {},
   "source": [
    "About the source\n",
    "- Frequency of update - Daily [based on updated_on attribute]\n",
    "\n",
    "Incremental\n",
    "- if db exists\n",
    "- Check last updated_on date and fetch records past that date\n",
    "\n",
    "Full load (work on this first)\n",
    "- If db doesnt exist, perform full load\n",
    "- set a base date to fetch records for full load maybe 2024-01-01\n",
    "- Dag based full load (backfill) or full load within a dag run + incremental\n"
   ]
  },
  {
   "cell_type": "code",
   "execution_count": null,
   "id": "6cbd7428",
   "metadata": {},
   "outputs": [
    {
     "name": "stdout",
     "output_type": "stream",
     "text": [
      "raw/ingest=2025-07-27/part-0001.json.gz\n",
      "raw/ingest=2025-07-27/part-0002.json.gz\n",
      "raw/ingest=2025-07-27/part-0003.json.gz\n",
      "raw/ingest=2025-07-27/part-0004.json.gz\n",
      "raw/ingest=2025-07-27/part-0005.json.gz\n",
      "raw/ingest=2025-07-27/part-0006.json.gz\n",
      "raw/ingest=2025-07-27/part-0007.json.gz\n",
      "raw/ingest=2025-07-27/part-0008.json.gz\n",
      "raw/ingest=2025-07-27/part-0009.json.gz\n",
      "raw/ingest=2025-07-27/part-0010.json.gz\n",
      "raw/ingest=2025-07-27/part-0011.json.gz\n",
      "raw/ingest=2025-07-27/part-0012.json.gz\n",
      "raw/ingest=2025-07-27/part-0013.json.gz\n",
      "raw/ingest=2025-07-27/part-0014.json.gz\n",
      "raw/ingest=2025-07-27/part-0015.json.gz\n",
      "raw/ingest=2025-07-27/part-0016.json.gz\n",
      "raw/ingest=2025-07-27/part-0017.json.gz\n",
      "raw/ingest=2025-07-27/part-0018.json.gz\n",
      "raw/ingest=2025-07-27/part-0019.json.gz\n",
      "raw/ingest=2025-07-27/part-0020.json.gz\n",
      "raw/ingest=2025-07-27/part-0021.json.gz\n",
      "raw/ingest=2025-07-27/part-0022.json.gz\n"
     ]
    }
   ],
   "source": [
    "# get data from s3, filter by ingest\n",
    "aws_params = {\n",
    "    \"access_key\" : os.getenv(\"AWS_ACCESS_KEY_ID\"),\n",
    "    \"secret_access_key\" : os.getenv(\"AWS_SECRET_ACCESS_KEY\"),\n",
    "    \"region\" : os.getenv(\"AWS_REGION\")\n",
    "}\n",
    "\n",
    "s3_client = create_aws_conn(resource='s3', **aws_params)\n",
    "\n",
    "BUCKET_NAME = 'open-crime-etl'\n",
    "SOURCE = \"raw/\"\n",
    "PREFIX = f\"year=/month=\"\n",
    "\n",
    "# We need to know about the last ingested date from the metadata\n",
    "\n",
    "bucket = s3_client.Bucket(BUCKET_NAME)\n",
    "for i in bucket.objects.filter(Prefix=f\"{SOURCE}\"):\n",
    "    print(i.key)\n",
    "\n",
    "# Uncompress it\n",
    "\n",
    "# json loads\n",
    "\n",
    "# Transform\n",
    "\n",
    "# sqlalchemy insert into postgres\n"
   ]
  }
 ],
 "metadata": {
  "kernelspec": {
   "display_name": ".venv",
   "language": "python",
   "name": "python3"
  },
  "language_info": {
   "codemirror_mode": {
    "name": "ipython",
    "version": 3
   },
   "file_extension": ".py",
   "mimetype": "text/x-python",
   "name": "python",
   "nbconvert_exporter": "python",
   "pygments_lexer": "ipython3",
   "version": "3.10.18"
  }
 },
 "nbformat": 4,
 "nbformat_minor": 5
}
